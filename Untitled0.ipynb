{
 "metadata": {
  "name": "",
  "signature": "sha256:2304fff26f2d463891d02f8a6ef4ae599b3d006864a941ec0ecef93f16229747"
 },
 "nbformat": 3,
 "nbformat_minor": 0,
 "worksheets": [
  {
   "cells": [
    {
     "cell_type": "code",
     "collapsed": false,
     "input": [
      "import org.nd4j.linalg.factory.Nd4j\n",
      "import org.nd4j.api.linalg.DSL._"
     ],
     "language": "python",
     "metadata": {},
     "outputs": []
    },
    {
     "cell_type": "code",
     "collapsed": false,
     "input": [
      "val arr = Nd4j.create(5)"
     ],
     "language": "python",
     "metadata": {},
     "outputs": []
    },
    {
     "cell_type": "code",
     "collapsed": false,
     "input": [
      "arr += 5\n"
     ],
     "language": "python",
     "metadata": {},
     "outputs": []
    }
   ],
   "metadata": {}
  }
 ]
}